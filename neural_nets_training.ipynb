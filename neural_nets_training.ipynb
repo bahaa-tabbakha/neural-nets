{
  "nbformat": 4,
  "nbformat_minor": 0,
  "metadata": {
    "colab": {
      "provenance": [],
      "toc_visible": true,
      "include_colab_link": true
    },
    "kernelspec": {
      "name": "python3",
      "display_name": "Python 3"
    },
    "language_info": {
      "name": "python"
    }
  },
  "cells": [
    {
      "cell_type": "markdown",
      "metadata": {
        "id": "view-in-github",
        "colab_type": "text"
      },
      "source": [
        "<a href=\"https://colab.research.google.com/github/bahaa-tabbakha/neural-nets/blob/main/neural_nets_training.ipynb\" target=\"_parent\"><img src=\"https://colab.research.google.com/assets/colab-badge.svg\" alt=\"Open In Colab\"/></a>"
      ]
    },
    {
      "cell_type": "code",
      "execution_count": null,
      "metadata": {
        "id": "O4eRKdj-f6mR"
      },
      "outputs": [],
      "source": [
        "import math\n",
        "import numpy as np\n",
        "import matplotlib.pyplot as plt\n",
        "%matplotlib inline"
      ]
    },
    {
      "cell_type": "code",
      "source": [
        "def f(x):\n",
        "  return 3*x**2 - 4*x + 5 "
      ],
      "metadata": {
        "id": "TT3_JueQgAlq"
      },
      "execution_count": null,
      "outputs": []
    },
    {
      "cell_type": "code",
      "source": [
        "f(3.0)"
      ],
      "metadata": {
        "colab": {
          "base_uri": "https://localhost:8080/"
        },
        "id": "RJ-QsES9gCRi",
        "outputId": "2f03b2fc-4fcd-43a8-fd97-064269d37561"
      },
      "execution_count": null,
      "outputs": [
        {
          "output_type": "execute_result",
          "data": {
            "text/plain": [
              "20.0"
            ]
          },
          "metadata": {},
          "execution_count": 3
        }
      ]
    },
    {
      "cell_type": "code",
      "source": [
        "xs = np.arange(-5, 5, 0.25)\n",
        "ys = f(xs)\n",
        "plt.plot(xs, ys)"
      ],
      "metadata": {
        "colab": {
          "base_uri": "https://localhost:8080/",
          "height": 282
        },
        "id": "osgBg4BYgFW6",
        "outputId": "f45c000e-4653-47a0-c858-f9f27b66a065"
      },
      "execution_count": null,
      "outputs": [
        {
          "output_type": "execute_result",
          "data": {
            "text/plain": [
              "[<matplotlib.lines.Line2D at 0x7f195e9bb8e0>]"
            ]
          },
          "metadata": {},
          "execution_count": 4
        },
        {
          "output_type": "display_data",
          "data": {
            "text/plain": [
              "<Figure size 432x288 with 1 Axes>"
            ],
            "image/png": "[encoded data removed]"
          },
          "metadata": {
            "needs_background": "light"
          }
        }
      ]
    },
    {
      "cell_type": "code",
      "source": [
        "h = 0.000001\n",
        "x = 2/3\n",
        "(f(x + h) - f(x))/h"
      ],
      "metadata": {
        "colab": {
          "base_uri": "https://localhost:8080/"
        },
        "id": "VU34lOYkgHTc",
        "outputId": "be883104-14e7-4e91-e092-ef4a00278900"
      },
      "execution_count": null,
      "outputs": [
        {
          "output_type": "execute_result",
          "data": {
            "text/plain": [
              "2.999378523327323e-06"
            ]
          },
          "metadata": {},
          "execution_count": 5
        }
      ]
    },
    {
      "cell_type": "code",
      "source": [
        "# les get more complex\n",
        "a = 2.0\n",
        "b = -3.0\n",
        "c = 10.0\n",
        "d = a*b + c\n",
        "print(d)"
      ],
      "metadata": {
        "colab": {
          "base_uri": "https://localhost:8080/"
        },
        "id": "6pnxgsdMgYBP",
        "outputId": "7fb597b3-dafd-4cb1-f258-5b81fc74c304"
      },
      "execution_count": null,
      "outputs": [
        {
          "output_type": "stream",
          "name": "stdout",
          "text": [
            "4.0\n"
          ]
        }
      ]
    },
    {
      "cell_type": "code",
      "source": [
        "h = 0.0001\n",
        "\n",
        "# inputs\n",
        "a = 2.0\n",
        "b = -3.0\n",
        "c = 10.0\n",
        "\n",
        "d1 = a*b + c\n",
        "c += h\n",
        "d2 = a*b + c\n",
        "\n",
        "print('d1', d1)\n",
        "print('d2', d2)\n",
        "print('slope', (d2 - d1)/h)"
      ],
      "metadata": {
        "colab": {
          "base_uri": "https://localhost:8080/"
        },
        "id": "ba-XXJ9RgcFB",
        "outputId": "9acaf911-5fb0-4554-c2f0-940b3815d14c"
      },
      "execution_count": null,
      "outputs": [
        {
          "output_type": "stream",
          "name": "stdout",
          "text": [
            "d1 4.0\n",
            "d2 4.0001\n",
            "slope 0.9999999999976694\n"
          ]
        }
      ]
    },
    {
      "cell_type": "code",
      "source": [
        "class Value:\n",
        "  \n",
        "  def __init__(self, data, _children=(), _op='', label=''):\n",
        "    self.data = data\n",
        "    self.grad = 0.0\n",
        "    self._backward = lambda: None\n",
        "    self._prev = set(_children)\n",
        "    self._op = _op\n",
        "    self.label = label\n",
        "\n",
        "  def __repr__(self):\n",
        "    return f\"Value(data={self.data})\"\n",
        "  \n",
        "  def __add__(self, other):\n",
        "    out = Value(self.data + other.data, (self, other), '+')\n",
        "    \n",
        "    ## when addition we just get the gradiant of the global and multipliy it by 1\n",
        "    def _backward():\n",
        "      self.grad += 1.0 * out.grad\n",
        "      other.grad += 1.0 * out.grad\n",
        "    out._backward = _backward\n",
        "    \n",
        "    return out\n",
        "\n",
        "  def __mul__(self, other):\n",
        "    out = Value(self.data * other.data, (self, other), '*')\n",
        "    # += is because the multivariable case in Chain rule\n",
        "    # https://en.wikipedia.org/wiki/Chain_rule#Multivariable_case\n",
        "    def _backward():\n",
        "      self.grad += other.data * out.grad\n",
        "      other.grad += self.data * out.grad\n",
        "    out._backward = _backward\n",
        "      \n",
        "    return out\n",
        "  \n",
        "  def tanh(self):\n",
        "    x = self.data\n",
        "    t = (math.exp(2*x) - 1)/(math.exp(2*x) + 1)\n",
        "    out = Value(t, (self, ), 'tanh')\n",
        "    \n",
        "    def _backward():\n",
        "      self.grad += (1 - t**2) * out.grad\n",
        "    out._backward = _backward\n",
        "    \n",
        "    return out\n",
        "  \n",
        "  def backward(self):\n",
        "    \n",
        "    topo = []\n",
        "    visited = set()\n",
        "    def build_topo(v):\n",
        "      if v not in visited:\n",
        "        visited.add(v)\n",
        "        for child in v._prev:\n",
        "          build_topo(child)\n",
        "        topo.append(v)\n",
        "    build_topo(self)\n",
        "    \n",
        "    self.grad = 1.0\n",
        "    for node in reversed(topo):\n",
        "      node._backward()\n",
        "\n",
        "\n",
        "a = Value(2.0, label='a')\n",
        "b = Value(-3.0, label='b')\n",
        "c = Value(10.0, label='c')\n",
        "e = a*b; e.label = 'e'\n",
        "d = e + c; d.label = 'd'\n",
        "f = Value(-2.0, label='f')\n",
        "L = d * f; L.label = 'L'\n",
        "L"
      ],
      "metadata": {
        "colab": {
          "base_uri": "https://localhost:8080/"
        },
        "id": "S1mdEekzggOC",
        "outputId": "3f3f42a2-3c0e-485e-f237-9f9373a253fc"
      },
      "execution_count": null,
      "outputs": [
        {
          "output_type": "execute_result",
          "data": {
            "text/plain": [
              "Value(data=-8.0)"
            ]
          },
          "metadata": {},
          "execution_count": 44
        }
      ]
    },
    {
      "cell_type": "code",
      "source": [
        "from graphviz import Digraph\n",
        "\n",
        "def trace(root):\n",
        "  # builds a set of all nodes and edges in a graph\n",
        "  nodes, edges = set(), set()\n",
        "  def build(v):\n",
        "    if v not in nodes:\n",
        "      nodes.add(v)\n",
        "      for child in v._prev:\n",
        "        edges.add((child, v))\n",
        "        build(child)\n",
        "  build(root)\n",
        "  return nodes, edges\n",
        "\n",
        "def draw_dot(root):\n",
        "  dot = Digraph(format='svg', graph_attr={'rankdir': 'LR'}) # LR = left to right\n",
        "  \n",
        "  nodes, edges = trace(root)\n",
        "  for n in nodes:\n",
        "    uid = str(id(n))\n",
        "    # for any value in the graph, create a rectangular ('record') node for it\n",
        "    dot.node(name = uid, label = \"{ %s | data %.4f | grad %.4f }\" % (n.label, n.data, n.grad), shape='record')\n",
        "    if n._op:\n",
        "      # if this value is a result of some operation, create an op node for it\n",
        "      dot.node(name = uid + n._op, label = n._op)\n",
        "      # and connect this node to it\n",
        "      dot.edge(uid + n._op, uid)\n",
        "\n",
        "  for n1, n2 in edges:\n",
        "    # connect n1 to the op node of n2\n",
        "    dot.edge(str(id(n1)), str(id(n2)) + n2._op)\n",
        "\n",
        "  return dot"
      ],
      "metadata": {
        "id": "6nmkvsaLghWS"
      },
      "execution_count": null,
      "outputs": []
    },
    {
      "cell_type": "code",
      "source": [
        "draw_dot(L)"
      ],
      "metadata": {
        "colab": {
          "base_uri": "https://localhost:8080/",
          "height": 212
        },
        "id": "y8xTetZKglAS",
        "outputId": "d85d56e9-0a6d-4632-bba9-89207fc0bc4c"
      },
      "execution_count": null,
      "outputs": [
        {
          "output_type": "execute_result",
          "data": {
            "image/svg+xml": "<?xml version=\"1.0\" encoding=\"UTF-8\" standalone=\"no\"?>\n<!DOCTYPE svg PUBLIC \"-//W3C//DTD SVG 1.1//EN\"\n \"http://www.w3.org/Graphics/SVG/1.1/DTD/svg11.dtd\">\n<!-- Generated by graphviz version 2.43.0 (0)\n -->\n<!-- Title: %3 Pages: 1 -->\n<svg width=\"1146pt\" height=\"128pt\"\n viewBox=\"0.00 0.00 1146.00 128.00\" xmlns=\"http://www.w3.org/2000/svg\" xmlns:xlink=\"http://www.w3.org/1999/xlink\">\n<g id=\"graph0\" class=\"graph\" transform=\"scale(1 1) rotate(0) translate(4 124)\">\n<title>%3</title>\n<polygon fill=\"white\" stroke=\"transparent\" points=\"-4,4 -4,-124 1142,-124 1142,4 -4,4\"/>\n<!-- 139746554839104 -->\n<g id=\"node1\" class=\"node\">\n<title>139746554839104</title>\n<polygon fill=\"none\" stroke=\"black\" points=\"629.5,-82.5 629.5,-118.5 817.5,-118.5 817.5,-82.5 629.5,-82.5\"/>\n<text text-anchor=\"middle\" x=\"640\" y=\"-96.8\" font-family=\"Times,serif\" font-size=\"14.00\">f</text>\n<polyline fill=\"none\" stroke=\"black\" points=\"650.5,-82.5 650.5,-118.5 \"/>\n<text text-anchor=\"middle\" x=\"693\" y=\"-96.8\" font-family=\"Times,serif\" font-size=\"14.00\">data &#45;2.0000</text>\n<polyline fill=\"none\" stroke=\"black\" points=\"735.5,-82.5 735.5,-118.5 \"/>\n<text text-anchor=\"middle\" x=\"776.5\" y=\"-96.8\" font-family=\"Times,serif\" font-size=\"14.00\">grad 0.0000</text>\n</g>\n<!-- 139746554842896* -->\n<g id=\"node6\" class=\"node\">\n<title>139746554842896*</title>\n<ellipse fill=\"none\" stroke=\"black\" cx=\"881\" cy=\"-72.5\" rx=\"27\" ry=\"18\"/>\n<text text-anchor=\"middle\" x=\"881\" y=\"-68.8\" font-family=\"Times,serif\" font-size=\"14.00\">*</text>\n</g>\n<!-- 139746554839104&#45;&gt;139746554842896* -->\n<g id=\"edge6\" class=\"edge\">\n<title>139746554839104&#45;&gt;139746554842896*</title>\n<path fill=\"none\" stroke=\"black\" d=\"M817.65,-83.73C827.2,-82.01 836.43,-80.35 844.72,-78.85\"/>\n<polygon fill=\"black\" stroke=\"black\" points=\"845.47,-82.27 854.69,-77.06 844.23,-75.39 845.47,-82.27\"/>\n</g>\n<!-- 139746554841168 -->\n<g id=\"node2\" class=\"node\">\n<title>139746554841168</title>\n<polygon fill=\"none\" stroke=\"black\" points=\"312.5,-55.5 312.5,-91.5 501.5,-91.5 501.5,-55.5 312.5,-55.5\"/>\n<text text-anchor=\"middle\" x=\"322.5\" y=\"-69.8\" font-family=\"Times,serif\" font-size=\"14.00\"> </text>\n<polyline fill=\"none\" stroke=\"black\" points=\"332.5,-55.5 332.5,-91.5 \"/>\n<text text-anchor=\"middle\" x=\"376\" y=\"-69.8\" font-family=\"Times,serif\" font-size=\"14.00\">data 13.7627</text>\n<polyline fill=\"none\" stroke=\"black\" points=\"419.5,-55.5 419.5,-91.5 \"/>\n<text text-anchor=\"middle\" x=\"460.5\" y=\"-69.8\" font-family=\"Times,serif\" font-size=\"14.00\">grad 0.0000</text>\n</g>\n<!-- 139746554839872+ -->\n<g id=\"node8\" class=\"node\">\n<title>139746554839872+</title>\n<ellipse fill=\"none\" stroke=\"black\" cx=\"566\" cy=\"-45.5\" rx=\"27\" ry=\"18\"/>\n<text text-anchor=\"middle\" x=\"566\" y=\"-41.8\" font-family=\"Times,serif\" font-size=\"14.00\">+</text>\n</g>\n<!-- 139746554841168&#45;&gt;139746554839872+ -->\n<g id=\"edge5\" class=\"edge\">\n<title>139746554841168&#45;&gt;139746554839872+</title>\n<path fill=\"none\" stroke=\"black\" d=\"M501.59,-56.81C511.59,-55.03 521.24,-53.3 529.87,-51.77\"/>\n<polygon fill=\"black\" stroke=\"black\" points=\"530.62,-55.19 539.85,-49.99 529.39,-48.3 530.62,-55.19\"/>\n</g>\n<!-- 139746554841168* -->\n<g id=\"node3\" class=\"node\">\n<title>139746554841168*</title>\n<ellipse fill=\"none\" stroke=\"black\" cx=\"248\" cy=\"-73.5\" rx=\"27\" ry=\"18\"/>\n<text text-anchor=\"middle\" x=\"248\" y=\"-69.8\" font-family=\"Times,serif\" font-size=\"14.00\">*</text>\n</g>\n<!-- 139746554841168*&#45;&gt;139746554841168 -->\n<g id=\"edge1\" class=\"edge\">\n<title>139746554841168*&#45;&gt;139746554841168</title>\n<path fill=\"none\" stroke=\"black\" d=\"M275.28,-73.5C283.12,-73.5 292.23,-73.5 301.92,-73.5\"/>\n<polygon fill=\"black\" stroke=\"black\" points=\"302.21,-77 312.21,-73.5 302.21,-70 302.21,-77\"/>\n</g>\n<!-- 139746903432304 -->\n<g id=\"node4\" class=\"node\">\n<title>139746903432304</title>\n<polygon fill=\"none\" stroke=\"black\" points=\"0,-83.5 0,-119.5 185,-119.5 185,-83.5 0,-83.5\"/>\n<text text-anchor=\"middle\" x=\"11.5\" y=\"-97.8\" font-family=\"Times,serif\" font-size=\"14.00\">b</text>\n<polyline fill=\"none\" stroke=\"black\" points=\"23,-83.5 23,-119.5 \"/>\n<text text-anchor=\"middle\" x=\"63\" y=\"-97.8\" font-family=\"Times,serif\" font-size=\"14.00\">data 6.8814</text>\n<polyline fill=\"none\" stroke=\"black\" points=\"103,-83.5 103,-119.5 \"/>\n<text text-anchor=\"middle\" x=\"144\" y=\"-97.8\" font-family=\"Times,serif\" font-size=\"14.00\">grad 0.0000</text>\n</g>\n<!-- 139746903432304&#45;&gt;139746554841168* -->\n<g id=\"edge9\" class=\"edge\">\n<title>139746903432304&#45;&gt;139746554841168*</title>\n<path fill=\"none\" stroke=\"black\" d=\"M185.01,-84.81C194.49,-83.08 203.66,-81.41 211.9,-79.9\"/>\n<polygon fill=\"black\" stroke=\"black\" points=\"212.6,-83.33 221.81,-78.09 211.35,-76.45 212.6,-83.33\"/>\n</g>\n<!-- 139746554842896 -->\n<g id=\"node5\" class=\"node\">\n<title>139746554842896</title>\n<polygon fill=\"none\" stroke=\"black\" points=\"944,-54.5 944,-90.5 1138,-90.5 1138,-54.5 944,-54.5\"/>\n<text text-anchor=\"middle\" x=\"954\" y=\"-68.8\" font-family=\"Times,serif\" font-size=\"14.00\"> </text>\n<polyline fill=\"none\" stroke=\"black\" points=\"964,-54.5 964,-90.5 \"/>\n<text text-anchor=\"middle\" x=\"1010\" y=\"-68.8\" font-family=\"Times,serif\" font-size=\"14.00\">data &#45;47.5255</text>\n<polyline fill=\"none\" stroke=\"black\" points=\"1056,-54.5 1056,-90.5 \"/>\n<text text-anchor=\"middle\" x=\"1097\" y=\"-68.8\" font-family=\"Times,serif\" font-size=\"14.00\">grad 0.0000</text>\n</g>\n<!-- 139746554842896*&#45;&gt;139746554842896 -->\n<g id=\"edge2\" class=\"edge\">\n<title>139746554842896*&#45;&gt;139746554842896</title>\n<path fill=\"none\" stroke=\"black\" d=\"M908.09,-72.5C915.62,-72.5 924.34,-72.5 933.63,-72.5\"/>\n<polygon fill=\"black\" stroke=\"black\" points=\"933.92,-76 943.92,-72.5 933.92,-69 933.92,-76\"/>\n</g>\n<!-- 139746554839872 -->\n<g id=\"node7\" class=\"node\">\n<title>139746554839872</title>\n<polygon fill=\"none\" stroke=\"black\" points=\"629,-27.5 629,-63.5 818,-63.5 818,-27.5 629,-27.5\"/>\n<text text-anchor=\"middle\" x=\"639\" y=\"-41.8\" font-family=\"Times,serif\" font-size=\"14.00\"> </text>\n<polyline fill=\"none\" stroke=\"black\" points=\"649,-27.5 649,-63.5 \"/>\n<text text-anchor=\"middle\" x=\"692.5\" y=\"-41.8\" font-family=\"Times,serif\" font-size=\"14.00\">data 23.7627</text>\n<polyline fill=\"none\" stroke=\"black\" points=\"736,-27.5 736,-63.5 \"/>\n<text text-anchor=\"middle\" x=\"777\" y=\"-41.8\" font-family=\"Times,serif\" font-size=\"14.00\">grad 0.0000</text>\n</g>\n<!-- 139746554839872&#45;&gt;139746554842896* -->\n<g id=\"edge8\" class=\"edge\">\n<title>139746554839872&#45;&gt;139746554842896*</title>\n<path fill=\"none\" stroke=\"black\" d=\"M818.1,-61.75C827.4,-63.37 836.38,-64.93 844.49,-66.33\"/>\n<polygon fill=\"black\" stroke=\"black\" points=\"844.14,-69.83 854.59,-68.09 845.34,-62.93 844.14,-69.83\"/>\n</g>\n<!-- 139746554839872+&#45;&gt;139746554839872 -->\n<g id=\"edge3\" class=\"edge\">\n<title>139746554839872+&#45;&gt;139746554839872</title>\n<path fill=\"none\" stroke=\"black\" d=\"M593.03,-45.5C600.66,-45.5 609.52,-45.5 618.94,-45.5\"/>\n<polygon fill=\"black\" stroke=\"black\" points=\"618.94,-49 628.94,-45.5 618.94,-42 618.94,-49\"/>\n</g>\n<!-- 139746555633472 -->\n<g id=\"node9\" class=\"node\">\n<title>139746555633472</title>\n<polygon fill=\"none\" stroke=\"black\" points=\"311,-0.5 311,-36.5 503,-36.5 503,-0.5 311,-0.5\"/>\n<text text-anchor=\"middle\" x=\"322.5\" y=\"-14.8\" font-family=\"Times,serif\" font-size=\"14.00\">c</text>\n<polyline fill=\"none\" stroke=\"black\" points=\"334,-0.5 334,-36.5 \"/>\n<text text-anchor=\"middle\" x=\"377.5\" y=\"-14.8\" font-family=\"Times,serif\" font-size=\"14.00\">data 10.0000</text>\n<polyline fill=\"none\" stroke=\"black\" points=\"421,-0.5 421,-36.5 \"/>\n<text text-anchor=\"middle\" x=\"462\" y=\"-14.8\" font-family=\"Times,serif\" font-size=\"14.00\">grad 0.0000</text>\n</g>\n<!-- 139746555633472&#45;&gt;139746554839872+ -->\n<g id=\"edge7\" class=\"edge\">\n<title>139746555633472&#45;&gt;139746554839872+</title>\n<path fill=\"none\" stroke=\"black\" d=\"M503.4,-34.91C512.69,-36.5 521.64,-38.04 529.71,-39.43\"/>\n<polygon fill=\"black\" stroke=\"black\" points=\"529.32,-42.91 539.76,-41.16 530.5,-36.02 529.32,-42.91\"/>\n</g>\n<!-- 139746555633520 -->\n<g id=\"node10\" class=\"node\">\n<title>139746555633520</title>\n<polygon fill=\"none\" stroke=\"black\" points=\"0,-28.5 0,-64.5 185,-64.5 185,-28.5 0,-28.5\"/>\n<text text-anchor=\"middle\" x=\"11.5\" y=\"-42.8\" font-family=\"Times,serif\" font-size=\"14.00\">a</text>\n<polyline fill=\"none\" stroke=\"black\" points=\"23,-28.5 23,-64.5 \"/>\n<text text-anchor=\"middle\" x=\"63\" y=\"-42.8\" font-family=\"Times,serif\" font-size=\"14.00\">data 2.0000</text>\n<polyline fill=\"none\" stroke=\"black\" points=\"103,-28.5 103,-64.5 \"/>\n<text text-anchor=\"middle\" x=\"144\" y=\"-42.8\" font-family=\"Times,serif\" font-size=\"14.00\">grad 0.0000</text>\n</g>\n<!-- 139746555633520&#45;&gt;139746554841168* -->\n<g id=\"edge4\" class=\"edge\">\n<title>139746555633520&#45;&gt;139746554841168*</title>\n<path fill=\"none\" stroke=\"black\" d=\"M185.01,-62.6C194.49,-64.26 203.66,-65.88 211.9,-67.33\"/>\n<polygon fill=\"black\" stroke=\"black\" points=\"211.36,-70.78 221.81,-69.07 212.57,-63.89 211.36,-70.78\"/>\n</g>\n</g>\n</svg>\n",
            "text/plain": [
              "<graphviz.graphs.Digraph at 0x7f1947ce9d30>"
            ]
          },
          "metadata": {},
          "execution_count": 52
        }
      ]
    },
    {
      "cell_type": "code",
      "source": [
        "a.data += 0.01 * a.grad\n",
        "b.data += 0.01 * b.grad\n",
        "c.data += 0.01 * c.grad\n",
        "f.data += 0.01 * f.grad\n",
        "\n",
        "e = a * b\n",
        "d = e + c\n",
        "L = d * f\n",
        "\n",
        "print(L.data)"
      ],
      "metadata": {
        "colab": {
          "base_uri": "https://localhost:8080/"
        },
        "id": "wMxI8j9rg0Ya",
        "outputId": "889a5ee8-7e60-4cbb-ac29-41a9cf267c70"
      },
      "execution_count": null,
      "outputs": [
        {
          "output_type": "stream",
          "name": "stdout",
          "text": [
            "-47.52549434807817\n"
          ]
        }
      ]
    },
    {
      "cell_type": "code",
      "source": [
        "def lol():\n",
        "  \n",
        "  h = 0.001\n",
        "  \n",
        "  a = Value(2.0, label='a')\n",
        "  b = Value(-3.0, label='b')\n",
        "  c = Value(10.0, label='c')\n",
        "  e = a*b; e.label = 'e'\n",
        "  d = e + c; d.label = 'd'\n",
        "  f = Value(-2.0, label='f')\n",
        "  L = d * f; L.label = 'L'\n",
        "  L1 = L.data\n",
        "  \n",
        "  a = Value(2.0, label='a')\n",
        "  b = Value(-3.0, label='b')\n",
        "  b.data += h\n",
        "  c = Value(10.0, label='c')\n",
        "  e = a*b; e.label = 'e'\n",
        "  d = e + c; d.label = 'd'\n",
        "  f = Value(-2.0, label='f')\n",
        "  L = d * f; L.label = 'L'\n",
        "  L2 = L.data\n",
        "  \n",
        "  print((L2 - L1)/h)\n",
        "  \n",
        "lol()"
      ],
      "metadata": {
        "colab": {
          "base_uri": "https://localhost:8080/"
        },
        "id": "hYDEJCeqoHpN",
        "outputId": "1c8299e7-42c5-46e0-af9c-3443146276a4"
      },
      "execution_count": null,
      "outputs": [
        {
          "output_type": "stream",
          "name": "stdout",
          "text": [
            "-3.9999999999995595\n"
          ]
        }
      ]
    },
    {
      "cell_type": "code",
      "source": [
        "# inputs x1,x2\n",
        "x1 = Value(2.0, label='x1')\n",
        "x2 = Value(0.0, label='x2')\n",
        "# weights w1,w2\n",
        "w1 = Value(-3.0, label='w1')\n",
        "w2 = Value(1.0, label='w2')\n",
        "# bias of the neuron\n",
        "b = Value(6.8813735870195432, label='b')\n",
        "# x1*w1 + x2*w2 + b\n",
        "x1w1 = x1*w1; x1w1.label = 'x1*w1'\n",
        "x2w2 = x2*w2; x2w2.label = 'x2*w2'\n",
        "x1w1x2w2 = x1w1 + x2w2; x1w1x2w2.label = 'x1*w1 + x2*w2'\n",
        "n = x1w1x2w2 + b; n.label = 'n'\n",
        "o = n.tanh(); o.label = 'o' \n"
      ],
      "metadata": {
        "id": "cMOvBzXOrAlp"
      },
      "execution_count": null,
      "outputs": []
    },
    {
      "cell_type": "code",
      "source": [
        "draw_dot(o)"
      ],
      "metadata": {
        "colab": {
          "base_uri": "https://localhost:8080/",
          "height": 322
        },
        "id": "dzuKspfNrDJ5",
        "outputId": "a5af624f-323a-408a-e3e2-5ca5f309ee75"
      },
      "execution_count": null,
      "outputs": [
        {
          "output_type": "execute_result",
          "data": {
            "image/svg+xml": "<?xml version=\"1.0\" encoding=\"UTF-8\" standalone=\"no\"?>\n<!DOCTYPE svg PUBLIC \"-//W3C//DTD SVG 1.1//EN\"\n \"http://www.w3.org/Graphics/SVG/1.1/DTD/svg11.dtd\">\n<!-- Generated by graphviz version 2.43.0 (0)\n -->\n<!-- Title: %3 Pages: 1 -->\n<svg width=\"1575pt\" height=\"210pt\"\n viewBox=\"0.00 0.00 1575.00 210.00\" xmlns=\"http://www.w3.org/2000/svg\" xmlns:xlink=\"http://www.w3.org/1999/xlink\">\n<g id=\"graph0\" class=\"graph\" transform=\"scale(1 1) rotate(0) translate(4 206)\">\n<title>%3</title>\n<polygon fill=\"white\" stroke=\"transparent\" points=\"-4,4 -4,-206 1571,-206 1571,4 -4,4\"/>\n<!-- 139746554245232 -->\n<g id=\"node1\" class=\"node\">\n<title>139746554245232</title>\n<polygon fill=\"none\" stroke=\"black\" points=\"328.5,-55.5 328.5,-91.5 543.5,-91.5 543.5,-55.5 328.5,-55.5\"/>\n<text text-anchor=\"middle\" x=\"355\" y=\"-69.8\" font-family=\"Times,serif\" font-size=\"14.00\">x2*w2</text>\n<polyline fill=\"none\" stroke=\"black\" points=\"381.5,-55.5 381.5,-91.5 \"/>\n<text text-anchor=\"middle\" x=\"421.5\" y=\"-69.8\" font-family=\"Times,serif\" font-size=\"14.00\">data 0.0000</text>\n<polyline fill=\"none\" stroke=\"black\" points=\"461.5,-55.5 461.5,-91.5 \"/>\n<text text-anchor=\"middle\" x=\"502.5\" y=\"-69.8\" font-family=\"Times,serif\" font-size=\"14.00\">grad 0.5000</text>\n</g>\n<!-- 139746554245424+ -->\n<g id=\"node12\" class=\"node\">\n<title>139746554245424+</title>\n<ellipse fill=\"none\" stroke=\"black\" cx=\"609\" cy=\"-100.5\" rx=\"27\" ry=\"18\"/>\n<text text-anchor=\"middle\" x=\"609\" y=\"-96.8\" font-family=\"Times,serif\" font-size=\"14.00\">+</text>\n</g>\n<!-- 139746554245232&#45;&gt;139746554245424+ -->\n<g id=\"edge14\" class=\"edge\">\n<title>139746554245232&#45;&gt;139746554245424+</title>\n<path fill=\"none\" stroke=\"black\" d=\"M543.84,-90.37C554.01,-91.98 563.76,-93.51 572.44,-94.89\"/>\n<polygon fill=\"black\" stroke=\"black\" points=\"572.05,-98.37 582.47,-96.47 573.14,-91.45 572.05,-98.37\"/>\n</g>\n<!-- 139746554245232* -->\n<g id=\"node2\" class=\"node\">\n<title>139746554245232*</title>\n<ellipse fill=\"none\" stroke=\"black\" cx=\"263\" cy=\"-73.5\" rx=\"27\" ry=\"18\"/>\n<text text-anchor=\"middle\" x=\"263\" y=\"-69.8\" font-family=\"Times,serif\" font-size=\"14.00\">*</text>\n</g>\n<!-- 139746554245232*&#45;&gt;139746554245232 -->\n<g id=\"edge1\" class=\"edge\">\n<title>139746554245232*&#45;&gt;139746554245232</title>\n<path fill=\"none\" stroke=\"black\" d=\"M290.34,-73.5C298.51,-73.5 308.08,-73.5 318.36,-73.5\"/>\n<polygon fill=\"black\" stroke=\"black\" points=\"318.39,-77 328.39,-73.5 318.39,-70 318.39,-77\"/>\n</g>\n<!-- 139746555669616 -->\n<g id=\"node3\" class=\"node\">\n<title>139746555669616</title>\n<polygon fill=\"none\" stroke=\"black\" points=\"2.5,-55.5 2.5,-91.5 197.5,-91.5 197.5,-55.5 2.5,-55.5\"/>\n<text text-anchor=\"middle\" x=\"19\" y=\"-69.8\" font-family=\"Times,serif\" font-size=\"14.00\">w2</text>\n<polyline fill=\"none\" stroke=\"black\" points=\"35.5,-55.5 35.5,-91.5 \"/>\n<text text-anchor=\"middle\" x=\"75.5\" y=\"-69.8\" font-family=\"Times,serif\" font-size=\"14.00\">data 1.0000</text>\n<polyline fill=\"none\" stroke=\"black\" points=\"115.5,-55.5 115.5,-91.5 \"/>\n<text text-anchor=\"middle\" x=\"156.5\" y=\"-69.8\" font-family=\"Times,serif\" font-size=\"14.00\">grad 0.0000</text>\n</g>\n<!-- 139746555669616&#45;&gt;139746554245232* -->\n<g id=\"edge10\" class=\"edge\">\n<title>139746555669616&#45;&gt;139746554245232*</title>\n<path fill=\"none\" stroke=\"black\" d=\"M197.91,-73.5C207.65,-73.5 217.05,-73.5 225.52,-73.5\"/>\n<polygon fill=\"black\" stroke=\"black\" points=\"225.7,-77 235.7,-73.5 225.7,-70 225.7,-77\"/>\n</g>\n<!-- 139746554245280 -->\n<g id=\"node4\" class=\"node\">\n<title>139746554245280</title>\n<polygon fill=\"none\" stroke=\"black\" points=\"1071,-109.5 1071,-145.5 1256,-145.5 1256,-109.5 1071,-109.5\"/>\n<text text-anchor=\"middle\" x=\"1082.5\" y=\"-123.8\" font-family=\"Times,serif\" font-size=\"14.00\">n</text>\n<polyline fill=\"none\" stroke=\"black\" points=\"1094,-109.5 1094,-145.5 \"/>\n<text text-anchor=\"middle\" x=\"1134\" y=\"-123.8\" font-family=\"Times,serif\" font-size=\"14.00\">data 0.8814</text>\n<polyline fill=\"none\" stroke=\"black\" points=\"1174,-109.5 1174,-145.5 \"/>\n<text text-anchor=\"middle\" x=\"1215\" y=\"-123.8\" font-family=\"Times,serif\" font-size=\"14.00\">grad 0.5000</text>\n</g>\n<!-- 139746554246624tanh -->\n<g id=\"node15\" class=\"node\">\n<title>139746554246624tanh</title>\n<ellipse fill=\"none\" stroke=\"black\" cx=\"1319\" cy=\"-127.5\" rx=\"27\" ry=\"18\"/>\n<text text-anchor=\"middle\" x=\"1319\" y=\"-123.8\" font-family=\"Times,serif\" font-size=\"14.00\">tanh</text>\n</g>\n<!-- 139746554245280&#45;&gt;139746554246624tanh -->\n<g id=\"edge13\" class=\"edge\">\n<title>139746554245280&#45;&gt;139746554246624tanh</title>\n<path fill=\"none\" stroke=\"black\" d=\"M1256.01,-127.5C1265.01,-127.5 1273.74,-127.5 1281.66,-127.5\"/>\n<polygon fill=\"black\" stroke=\"black\" points=\"1281.91,-131 1291.91,-127.5 1281.91,-124 1281.91,-131\"/>\n</g>\n<!-- 139746554245280+ -->\n<g id=\"node5\" class=\"node\">\n<title>139746554245280+</title>\n<ellipse fill=\"none\" stroke=\"black\" cx=\"1008\" cy=\"-127.5\" rx=\"27\" ry=\"18\"/>\n<text text-anchor=\"middle\" x=\"1008\" y=\"-123.8\" font-family=\"Times,serif\" font-size=\"14.00\">+</text>\n</g>\n<!-- 139746554245280+&#45;&gt;139746554245280 -->\n<g id=\"edge2\" class=\"edge\">\n<title>139746554245280+&#45;&gt;139746554245280</title>\n<path fill=\"none\" stroke=\"black\" d=\"M1035.04,-127.5C1042.58,-127.5 1051.3,-127.5 1060.57,-127.5\"/>\n<polygon fill=\"black\" stroke=\"black\" points=\"1060.81,-131 1070.81,-127.5 1060.81,-124 1060.81,-131\"/>\n</g>\n<!-- 139746554247344 -->\n<g id=\"node6\" class=\"node\">\n<title>139746554247344</title>\n<polygon fill=\"none\" stroke=\"black\" points=\"326,-110.5 326,-146.5 546,-146.5 546,-110.5 326,-110.5\"/>\n<text text-anchor=\"middle\" x=\"352.5\" y=\"-124.8\" font-family=\"Times,serif\" font-size=\"14.00\">x1*w1</text>\n<polyline fill=\"none\" stroke=\"black\" points=\"379,-110.5 379,-146.5 \"/>\n<text text-anchor=\"middle\" x=\"421.5\" y=\"-124.8\" font-family=\"Times,serif\" font-size=\"14.00\">data &#45;6.0000</text>\n<polyline fill=\"none\" stroke=\"black\" points=\"464,-110.5 464,-146.5 \"/>\n<text text-anchor=\"middle\" x=\"505\" y=\"-124.8\" font-family=\"Times,serif\" font-size=\"14.00\">grad 0.5000</text>\n</g>\n<!-- 139746554247344&#45;&gt;139746554245424+ -->\n<g id=\"edge8\" class=\"edge\">\n<title>139746554247344&#45;&gt;139746554245424+</title>\n<path fill=\"none\" stroke=\"black\" d=\"M546.27,-110.61C555.64,-109.07 564.6,-107.61 572.65,-106.29\"/>\n<polygon fill=\"black\" stroke=\"black\" points=\"573.35,-109.72 582.65,-104.65 572.22,-102.81 573.35,-109.72\"/>\n</g>\n<!-- 139746554247344* -->\n<g id=\"node7\" class=\"node\">\n<title>139746554247344*</title>\n<ellipse fill=\"none\" stroke=\"black\" cx=\"263\" cy=\"-128.5\" rx=\"27\" ry=\"18\"/>\n<text text-anchor=\"middle\" x=\"263\" y=\"-124.8\" font-family=\"Times,serif\" font-size=\"14.00\">*</text>\n</g>\n<!-- 139746554247344*&#45;&gt;139746554247344 -->\n<g id=\"edge3\" class=\"edge\">\n<title>139746554247344*&#45;&gt;139746554247344</title>\n<path fill=\"none\" stroke=\"black\" d=\"M290.34,-128.5C297.77,-128.5 306.37,-128.5 315.6,-128.5\"/>\n<polygon fill=\"black\" stroke=\"black\" points=\"315.84,-132 325.84,-128.5 315.84,-125 315.84,-132\"/>\n</g>\n<!-- 139746555299488 -->\n<g id=\"node8\" class=\"node\">\n<title>139746555299488</title>\n<polygon fill=\"none\" stroke=\"black\" points=\"716,-137.5 716,-173.5 901,-173.5 901,-137.5 716,-137.5\"/>\n<text text-anchor=\"middle\" x=\"727.5\" y=\"-151.8\" font-family=\"Times,serif\" font-size=\"14.00\">b</text>\n<polyline fill=\"none\" stroke=\"black\" points=\"739,-137.5 739,-173.5 \"/>\n<text text-anchor=\"middle\" x=\"779\" y=\"-151.8\" font-family=\"Times,serif\" font-size=\"14.00\">data 6.8814</text>\n<polyline fill=\"none\" stroke=\"black\" points=\"819,-137.5 819,-173.5 \"/>\n<text text-anchor=\"middle\" x=\"860\" y=\"-151.8\" font-family=\"Times,serif\" font-size=\"14.00\">grad 0.5000</text>\n</g>\n<!-- 139746555299488&#45;&gt;139746554245280+ -->\n<g id=\"edge11\" class=\"edge\">\n<title>139746555299488&#45;&gt;139746554245280+</title>\n<path fill=\"none\" stroke=\"black\" d=\"M901.02,-142.52C926,-138.98 951.59,-135.36 971.37,-132.55\"/>\n<polygon fill=\"black\" stroke=\"black\" points=\"972.03,-135.99 981.43,-131.12 971.04,-129.06 972.03,-135.99\"/>\n</g>\n<!-- 139746555669184 -->\n<g id=\"node9\" class=\"node\">\n<title>139746555669184</title>\n<polygon fill=\"none\" stroke=\"black\" points=\"4,-0.5 4,-36.5 196,-36.5 196,-0.5 4,-0.5\"/>\n<text text-anchor=\"middle\" x=\"19\" y=\"-14.8\" font-family=\"Times,serif\" font-size=\"14.00\">x2</text>\n<polyline fill=\"none\" stroke=\"black\" points=\"34,-0.5 34,-36.5 \"/>\n<text text-anchor=\"middle\" x=\"74\" y=\"-14.8\" font-family=\"Times,serif\" font-size=\"14.00\">data 0.0000</text>\n<polyline fill=\"none\" stroke=\"black\" points=\"114,-0.5 114,-36.5 \"/>\n<text text-anchor=\"middle\" x=\"155\" y=\"-14.8\" font-family=\"Times,serif\" font-size=\"14.00\">grad 0.5000</text>\n</g>\n<!-- 139746555669184&#45;&gt;139746554245232* -->\n<g id=\"edge9\" class=\"edge\">\n<title>139746555669184&#45;&gt;139746554245232*</title>\n<path fill=\"none\" stroke=\"black\" d=\"M169.28,-36.5C179.65,-39.61 190.16,-42.98 200,-46.5 210.28,-50.17 221.28,-54.74 231.11,-59.07\"/>\n<polygon fill=\"black\" stroke=\"black\" points=\"229.93,-62.37 240.48,-63.27 232.79,-55.99 229.93,-62.37\"/>\n</g>\n<!-- 139746555299584 -->\n<g id=\"node10\" class=\"node\">\n<title>139746555299584</title>\n<polygon fill=\"none\" stroke=\"black\" points=\"0,-165.5 0,-201.5 200,-201.5 200,-165.5 0,-165.5\"/>\n<text text-anchor=\"middle\" x=\"16.5\" y=\"-179.8\" font-family=\"Times,serif\" font-size=\"14.00\">w1</text>\n<polyline fill=\"none\" stroke=\"black\" points=\"33,-165.5 33,-201.5 \"/>\n<text text-anchor=\"middle\" x=\"75.5\" y=\"-179.8\" font-family=\"Times,serif\" font-size=\"14.00\">data &#45;3.0000</text>\n<polyline fill=\"none\" stroke=\"black\" points=\"118,-165.5 118,-201.5 \"/>\n<text text-anchor=\"middle\" x=\"159\" y=\"-179.8\" font-family=\"Times,serif\" font-size=\"14.00\">grad 1.0000</text>\n</g>\n<!-- 139746555299584&#45;&gt;139746554247344* -->\n<g id=\"edge6\" class=\"edge\">\n<title>139746555299584&#45;&gt;139746554247344*</title>\n<path fill=\"none\" stroke=\"black\" d=\"M172.53,-165.44C181.84,-162.67 191.2,-159.67 200,-156.5 210.53,-152.71 221.75,-147.9 231.72,-143.33\"/>\n<polygon fill=\"black\" stroke=\"black\" points=\"233.25,-146.48 240.82,-139.07 230.28,-140.14 233.25,-146.48\"/>\n</g>\n<!-- 139746554245424 -->\n<g id=\"node11\" class=\"node\">\n<title>139746554245424</title>\n<polygon fill=\"none\" stroke=\"black\" points=\"672,-82.5 672,-118.5 945,-118.5 945,-82.5 672,-82.5\"/>\n<text text-anchor=\"middle\" x=\"725\" y=\"-96.8\" font-family=\"Times,serif\" font-size=\"14.00\">x1*w1 + x2*w2</text>\n<polyline fill=\"none\" stroke=\"black\" points=\"778,-82.5 778,-118.5 \"/>\n<text text-anchor=\"middle\" x=\"820.5\" y=\"-96.8\" font-family=\"Times,serif\" font-size=\"14.00\">data &#45;6.0000</text>\n<polyline fill=\"none\" stroke=\"black\" points=\"863,-82.5 863,-118.5 \"/>\n<text text-anchor=\"middle\" x=\"904\" y=\"-96.8\" font-family=\"Times,serif\" font-size=\"14.00\">grad 0.5000</text>\n</g>\n<!-- 139746554245424&#45;&gt;139746554245280+ -->\n<g id=\"edge12\" class=\"edge\">\n<title>139746554245424&#45;&gt;139746554245280+</title>\n<path fill=\"none\" stroke=\"black\" d=\"M941.24,-118.51C952.12,-120 962.4,-121.4 971.45,-122.64\"/>\n<polygon fill=\"black\" stroke=\"black\" points=\"971.11,-126.13 981.49,-124.01 972.05,-119.19 971.11,-126.13\"/>\n</g>\n<!-- 139746554245424+&#45;&gt;139746554245424 -->\n<g id=\"edge4\" class=\"edge\">\n<title>139746554245424+&#45;&gt;139746554245424</title>\n<path fill=\"none\" stroke=\"black\" d=\"M636.23,-100.5C643.7,-100.5 652.41,-100.5 661.87,-100.5\"/>\n<polygon fill=\"black\" stroke=\"black\" points=\"661.98,-104 671.98,-100.5 661.98,-97 661.98,-104\"/>\n</g>\n<!-- 139746555300736 -->\n<g id=\"node13\" class=\"node\">\n<title>139746555300736</title>\n<polygon fill=\"none\" stroke=\"black\" points=\"2,-110.5 2,-146.5 198,-146.5 198,-110.5 2,-110.5\"/>\n<text text-anchor=\"middle\" x=\"17\" y=\"-124.8\" font-family=\"Times,serif\" font-size=\"14.00\">x1</text>\n<polyline fill=\"none\" stroke=\"black\" points=\"32,-110.5 32,-146.5 \"/>\n<text text-anchor=\"middle\" x=\"72\" y=\"-124.8\" font-family=\"Times,serif\" font-size=\"14.00\">data 2.0000</text>\n<polyline fill=\"none\" stroke=\"black\" points=\"112,-110.5 112,-146.5 \"/>\n<text text-anchor=\"middle\" x=\"155\" y=\"-124.8\" font-family=\"Times,serif\" font-size=\"14.00\">grad &#45;1.5000</text>\n</g>\n<!-- 139746555300736&#45;&gt;139746554247344* -->\n<g id=\"edge7\" class=\"edge\">\n<title>139746555300736&#45;&gt;139746554247344*</title>\n<path fill=\"none\" stroke=\"black\" d=\"M198.37,-128.5C208.05,-128.5 217.4,-128.5 225.8,-128.5\"/>\n<polygon fill=\"black\" stroke=\"black\" points=\"225.91,-132 235.91,-128.5 225.91,-125 225.91,-132\"/>\n</g>\n<!-- 139746554246624 -->\n<g id=\"node14\" class=\"node\">\n<title>139746554246624</title>\n<polygon fill=\"none\" stroke=\"black\" points=\"1382,-109.5 1382,-145.5 1567,-145.5 1567,-109.5 1382,-109.5\"/>\n<text text-anchor=\"middle\" x=\"1393.5\" y=\"-123.8\" font-family=\"Times,serif\" font-size=\"14.00\">o</text>\n<polyline fill=\"none\" stroke=\"black\" points=\"1405,-109.5 1405,-145.5 \"/>\n<text text-anchor=\"middle\" x=\"1445\" y=\"-123.8\" font-family=\"Times,serif\" font-size=\"14.00\">data 0.7071</text>\n<polyline fill=\"none\" stroke=\"black\" points=\"1485,-109.5 1485,-145.5 \"/>\n<text text-anchor=\"middle\" x=\"1526\" y=\"-123.8\" font-family=\"Times,serif\" font-size=\"14.00\">grad 1.0000</text>\n</g>\n<!-- 139746554246624tanh&#45;&gt;139746554246624 -->\n<g id=\"edge5\" class=\"edge\">\n<title>139746554246624tanh&#45;&gt;139746554246624</title>\n<path fill=\"none\" stroke=\"black\" d=\"M1346.04,-127.5C1353.58,-127.5 1362.3,-127.5 1371.57,-127.5\"/>\n<polygon fill=\"black\" stroke=\"black\" points=\"1371.81,-131 1381.81,-127.5 1371.81,-124 1371.81,-131\"/>\n</g>\n</g>\n</svg>\n",
            "text/plain": [
              "<graphviz.graphs.Digraph at 0x7f1947b81b20>"
            ]
          },
          "metadata": {},
          "execution_count": 96
        }
      ]
    },
    {
      "cell_type": "markdown",
      "source": [
        "<center><h1>Manual back propagation</h1> </center>"
      ],
      "metadata": {
        "id": "pIkUyHwE9vr_"
      }
    },
    {
      "cell_type": "markdown",
      "source": [
        "<h1><center>Chain Rule in action</center></h1>\n",
        "\n",
        "\n",
        "1. First the derviative of o is 1.0\n",
        "2. Derviative of n\n",
        " - o = tanh(n)\n",
        " - dn/do = 1 -tanh(n)**2 = 1-o**2\n",
        "\n",
        "3. Derviative of x1w1x2w2 and b is distrubted because of the pluse sign\n",
        " - do/db = do/dn * dn/db = do/dn * 1.0 = do/dn = 0.5\n",
        "\n",
        "4. derviative of x1w1 and x2w2 is distrubted because of the pluse sign\n",
        " - do/d(x2*w2) = do/dn * dn/d(x1w1x2w2) * d(x1w1x2w2) / d(x2*w2)\n",
        "\n",
        "5. finally derviative of x1 and x2 same operation just applying the chain rule, and here we can use some short cut to achive this\n",
        "\n",
        " - x2.grad = w2.data * x2w2.grad = 0.5 \n",
        " - w2.grad = x2.data * x2w2.grad = 0.0 "
      ],
      "metadata": {
        "id": "9KkIyP4C4tWw"
      }
    },
    {
      "cell_type": "markdown",
      "source": [
        "<center><h1>Using our Backpropagation function</h1></center>\n",
        "<center>Just need to set our base case to 1</center>\n",
        "\n",
        "we can iterate throug the whole thing manaully\n",
        "\n",
        "1. o.grad = 1.0  \n",
        "\n",
        "2. o._backward() \n",
        "\n",
        "3. n._backward()\n",
        "\n",
        "4. x1w1x2w2._backward() && b._backward()\n",
        "\n",
        "5. x1w1._backward() && x2w2._backward()\n",
        "\n",
        "Or we can just use a topoligocal sort of such the backward implmentation"
      ],
      "metadata": {
        "id": "s5KBQs3Y_qeC"
      }
    },
    {
      "cell_type": "code",
      "source": [
        "o.backward()"
      ],
      "metadata": {
        "id": "UUFLKMjaBFFI"
      },
      "execution_count": null,
      "outputs": []
    }
  ]
}